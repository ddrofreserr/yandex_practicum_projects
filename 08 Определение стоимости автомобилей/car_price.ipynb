{
 "cells": [
  {
   "cell_type": "markdown",
   "metadata": {},
   "source": [
    "# Определение стоимости автомобилей"
   ]
  },
  {
   "cell_type": "markdown",
   "metadata": {},
   "source": [
    "Сервис по продаже автомобилей с пробегом «Не бит, не крашен» разрабатывает приложение для привлечения новых клиентов. В нём можно быстро узнать рыночную стоимость своего автомобиля. В вашем распоряжении исторические данные: технические характеристики, комплектации и цены автомобилей. Вам нужно построить модель для определения стоимости. \n",
    "\n",
    "Заказчику важны:\n",
    "\n",
    "- качество предсказания;\n",
    "- скорость предсказания;\n",
    "- время обучения."
   ]
  },
  {
   "cell_type": "markdown",
   "metadata": {},
   "source": [
    "## Подготовка данных"
   ]
  },
  {
   "cell_type": "markdown",
   "metadata": {},
   "source": [
    "### Импорт данных"
   ]
  },
  {
   "cell_type": "markdown",
   "metadata": {},
   "source": [
    "**Признаки**\n",
    "* `DateCrawled` — дата скачивания анкеты из базы\n",
    "* `VehicleType` — тип автомобильного кузова\n",
    "* `RegistrationYear` — год регистрации автомобиля\n",
    "* `Gearbox` — тип коробки передач\n",
    "* `Power` — мощность (л. с.)\n",
    "* `Model` — модель автомобиля\n",
    "* `Kilometer` — пробег (км)\n",
    "* `RegistrationMonth` — месяц регистрации автомобиля\n",
    "* `FuelType` — тип топлива\n",
    "* `Brand` — марка автомобиля\n",
    "* `Repaired` — была машина в ремонте или нет\n",
    "* `DateCreated` — дата создания анкеты\n",
    "* `NumberOfPictures` — количество фотографий автомобиля\n",
    "* `PostalCode` — почтовый индекс владельца анкеты (пользователя)\n",
    "* `LastSeen` — дата последней активности пользователя\n",
    "\n",
    "**Целевой признак**\n",
    "\n",
    "`Price` — цена (евро)"
   ]
  },
  {
   "cell_type": "code",
   "execution_count": 46,
   "metadata": {},
   "outputs": [],
   "source": [
    "# импорт библиотек\n",
    "import pandas as pd\n",
    "import numpy as np"
   ]
  },
  {
   "cell_type": "code",
   "execution_count": 47,
   "metadata": {},
   "outputs": [
    {
     "name": "stdout",
     "output_type": "stream",
     "text": [
      "<class 'pandas.core.frame.DataFrame'>\n",
      "RangeIndex: 354369 entries, 0 to 354368\n",
      "Data columns (total 16 columns):\n",
      " #   Column             Non-Null Count   Dtype \n",
      "---  ------             --------------   ----- \n",
      " 0   DateCrawled        354369 non-null  object\n",
      " 1   Price              354369 non-null  int64 \n",
      " 2   VehicleType        316879 non-null  object\n",
      " 3   RegistrationYear   354369 non-null  int64 \n",
      " 4   Gearbox            334536 non-null  object\n",
      " 5   Power              354369 non-null  int64 \n",
      " 6   Model              334664 non-null  object\n",
      " 7   Kilometer          354369 non-null  int64 \n",
      " 8   RegistrationMonth  354369 non-null  int64 \n",
      " 9   FuelType           321474 non-null  object\n",
      " 10  Brand              354369 non-null  object\n",
      " 11  Repaired           283215 non-null  object\n",
      " 12  DateCreated        354369 non-null  object\n",
      " 13  NumberOfPictures   354369 non-null  int64 \n",
      " 14  PostalCode         354369 non-null  int64 \n",
      " 15  LastSeen           354369 non-null  object\n",
      "dtypes: int64(7), object(9)\n",
      "memory usage: 43.3+ MB\n"
     ]
    },
    {
     "data": {
      "text/plain": [
       "None"
      ]
     },
     "metadata": {},
     "output_type": "display_data"
    },
    {
     "data": {
      "text/html": [
       "<div>\n",
       "<style scoped>\n",
       "    .dataframe tbody tr th:only-of-type {\n",
       "        vertical-align: middle;\n",
       "    }\n",
       "\n",
       "    .dataframe tbody tr th {\n",
       "        vertical-align: top;\n",
       "    }\n",
       "\n",
       "    .dataframe thead th {\n",
       "        text-align: right;\n",
       "    }\n",
       "</style>\n",
       "<table border=\"1\" class=\"dataframe\">\n",
       "  <thead>\n",
       "    <tr style=\"text-align: right;\">\n",
       "      <th></th>\n",
       "      <th>DateCrawled</th>\n",
       "      <th>Price</th>\n",
       "      <th>VehicleType</th>\n",
       "      <th>RegistrationYear</th>\n",
       "      <th>Gearbox</th>\n",
       "      <th>Power</th>\n",
       "      <th>Model</th>\n",
       "      <th>Kilometer</th>\n",
       "      <th>RegistrationMonth</th>\n",
       "      <th>FuelType</th>\n",
       "      <th>Brand</th>\n",
       "      <th>Repaired</th>\n",
       "      <th>DateCreated</th>\n",
       "      <th>NumberOfPictures</th>\n",
       "      <th>PostalCode</th>\n",
       "      <th>LastSeen</th>\n",
       "    </tr>\n",
       "  </thead>\n",
       "  <tbody>\n",
       "    <tr>\n",
       "      <th>0</th>\n",
       "      <td>2016-03-24 11:52:17</td>\n",
       "      <td>480</td>\n",
       "      <td>NaN</td>\n",
       "      <td>1993</td>\n",
       "      <td>manual</td>\n",
       "      <td>0</td>\n",
       "      <td>golf</td>\n",
       "      <td>150000</td>\n",
       "      <td>0</td>\n",
       "      <td>petrol</td>\n",
       "      <td>volkswagen</td>\n",
       "      <td>NaN</td>\n",
       "      <td>2016-03-24 00:00:00</td>\n",
       "      <td>0</td>\n",
       "      <td>70435</td>\n",
       "      <td>2016-04-07 03:16:57</td>\n",
       "    </tr>\n",
       "    <tr>\n",
       "      <th>1</th>\n",
       "      <td>2016-03-24 10:58:45</td>\n",
       "      <td>18300</td>\n",
       "      <td>coupe</td>\n",
       "      <td>2011</td>\n",
       "      <td>manual</td>\n",
       "      <td>190</td>\n",
       "      <td>NaN</td>\n",
       "      <td>125000</td>\n",
       "      <td>5</td>\n",
       "      <td>gasoline</td>\n",
       "      <td>audi</td>\n",
       "      <td>yes</td>\n",
       "      <td>2016-03-24 00:00:00</td>\n",
       "      <td>0</td>\n",
       "      <td>66954</td>\n",
       "      <td>2016-04-07 01:46:50</td>\n",
       "    </tr>\n",
       "    <tr>\n",
       "      <th>2</th>\n",
       "      <td>2016-03-14 12:52:21</td>\n",
       "      <td>9800</td>\n",
       "      <td>suv</td>\n",
       "      <td>2004</td>\n",
       "      <td>auto</td>\n",
       "      <td>163</td>\n",
       "      <td>grand</td>\n",
       "      <td>125000</td>\n",
       "      <td>8</td>\n",
       "      <td>gasoline</td>\n",
       "      <td>jeep</td>\n",
       "      <td>NaN</td>\n",
       "      <td>2016-03-14 00:00:00</td>\n",
       "      <td>0</td>\n",
       "      <td>90480</td>\n",
       "      <td>2016-04-05 12:47:46</td>\n",
       "    </tr>\n",
       "    <tr>\n",
       "      <th>3</th>\n",
       "      <td>2016-03-17 16:54:04</td>\n",
       "      <td>1500</td>\n",
       "      <td>small</td>\n",
       "      <td>2001</td>\n",
       "      <td>manual</td>\n",
       "      <td>75</td>\n",
       "      <td>golf</td>\n",
       "      <td>150000</td>\n",
       "      <td>6</td>\n",
       "      <td>petrol</td>\n",
       "      <td>volkswagen</td>\n",
       "      <td>no</td>\n",
       "      <td>2016-03-17 00:00:00</td>\n",
       "      <td>0</td>\n",
       "      <td>91074</td>\n",
       "      <td>2016-03-17 17:40:17</td>\n",
       "    </tr>\n",
       "    <tr>\n",
       "      <th>4</th>\n",
       "      <td>2016-03-31 17:25:20</td>\n",
       "      <td>3600</td>\n",
       "      <td>small</td>\n",
       "      <td>2008</td>\n",
       "      <td>manual</td>\n",
       "      <td>69</td>\n",
       "      <td>fabia</td>\n",
       "      <td>90000</td>\n",
       "      <td>7</td>\n",
       "      <td>gasoline</td>\n",
       "      <td>skoda</td>\n",
       "      <td>no</td>\n",
       "      <td>2016-03-31 00:00:00</td>\n",
       "      <td>0</td>\n",
       "      <td>60437</td>\n",
       "      <td>2016-04-06 10:17:21</td>\n",
       "    </tr>\n",
       "    <tr>\n",
       "      <th>5</th>\n",
       "      <td>2016-04-04 17:36:23</td>\n",
       "      <td>650</td>\n",
       "      <td>sedan</td>\n",
       "      <td>1995</td>\n",
       "      <td>manual</td>\n",
       "      <td>102</td>\n",
       "      <td>3er</td>\n",
       "      <td>150000</td>\n",
       "      <td>10</td>\n",
       "      <td>petrol</td>\n",
       "      <td>bmw</td>\n",
       "      <td>yes</td>\n",
       "      <td>2016-04-04 00:00:00</td>\n",
       "      <td>0</td>\n",
       "      <td>33775</td>\n",
       "      <td>2016-04-06 19:17:07</td>\n",
       "    </tr>\n",
       "    <tr>\n",
       "      <th>6</th>\n",
       "      <td>2016-04-01 20:48:51</td>\n",
       "      <td>2200</td>\n",
       "      <td>convertible</td>\n",
       "      <td>2004</td>\n",
       "      <td>manual</td>\n",
       "      <td>109</td>\n",
       "      <td>2_reihe</td>\n",
       "      <td>150000</td>\n",
       "      <td>8</td>\n",
       "      <td>petrol</td>\n",
       "      <td>peugeot</td>\n",
       "      <td>no</td>\n",
       "      <td>2016-04-01 00:00:00</td>\n",
       "      <td>0</td>\n",
       "      <td>67112</td>\n",
       "      <td>2016-04-05 18:18:39</td>\n",
       "    </tr>\n",
       "    <tr>\n",
       "      <th>7</th>\n",
       "      <td>2016-03-21 18:54:38</td>\n",
       "      <td>0</td>\n",
       "      <td>sedan</td>\n",
       "      <td>1980</td>\n",
       "      <td>manual</td>\n",
       "      <td>50</td>\n",
       "      <td>other</td>\n",
       "      <td>40000</td>\n",
       "      <td>7</td>\n",
       "      <td>petrol</td>\n",
       "      <td>volkswagen</td>\n",
       "      <td>no</td>\n",
       "      <td>2016-03-21 00:00:00</td>\n",
       "      <td>0</td>\n",
       "      <td>19348</td>\n",
       "      <td>2016-03-25 16:47:58</td>\n",
       "    </tr>\n",
       "    <tr>\n",
       "      <th>8</th>\n",
       "      <td>2016-04-04 23:42:13</td>\n",
       "      <td>14500</td>\n",
       "      <td>bus</td>\n",
       "      <td>2014</td>\n",
       "      <td>manual</td>\n",
       "      <td>125</td>\n",
       "      <td>c_max</td>\n",
       "      <td>30000</td>\n",
       "      <td>8</td>\n",
       "      <td>petrol</td>\n",
       "      <td>ford</td>\n",
       "      <td>NaN</td>\n",
       "      <td>2016-04-04 00:00:00</td>\n",
       "      <td>0</td>\n",
       "      <td>94505</td>\n",
       "      <td>2016-04-04 23:42:13</td>\n",
       "    </tr>\n",
       "    <tr>\n",
       "      <th>9</th>\n",
       "      <td>2016-03-17 10:53:50</td>\n",
       "      <td>999</td>\n",
       "      <td>small</td>\n",
       "      <td>1998</td>\n",
       "      <td>manual</td>\n",
       "      <td>101</td>\n",
       "      <td>golf</td>\n",
       "      <td>150000</td>\n",
       "      <td>0</td>\n",
       "      <td>NaN</td>\n",
       "      <td>volkswagen</td>\n",
       "      <td>NaN</td>\n",
       "      <td>2016-03-17 00:00:00</td>\n",
       "      <td>0</td>\n",
       "      <td>27472</td>\n",
       "      <td>2016-03-31 17:17:06</td>\n",
       "    </tr>\n",
       "  </tbody>\n",
       "</table>\n",
       "</div>"
      ],
      "text/plain": [
       "           DateCrawled  Price  VehicleType  RegistrationYear Gearbox  Power  \\\n",
       "0  2016-03-24 11:52:17    480          NaN              1993  manual      0   \n",
       "1  2016-03-24 10:58:45  18300        coupe              2011  manual    190   \n",
       "2  2016-03-14 12:52:21   9800          suv              2004    auto    163   \n",
       "3  2016-03-17 16:54:04   1500        small              2001  manual     75   \n",
       "4  2016-03-31 17:25:20   3600        small              2008  manual     69   \n",
       "5  2016-04-04 17:36:23    650        sedan              1995  manual    102   \n",
       "6  2016-04-01 20:48:51   2200  convertible              2004  manual    109   \n",
       "7  2016-03-21 18:54:38      0        sedan              1980  manual     50   \n",
       "8  2016-04-04 23:42:13  14500          bus              2014  manual    125   \n",
       "9  2016-03-17 10:53:50    999        small              1998  manual    101   \n",
       "\n",
       "     Model  Kilometer  RegistrationMonth  FuelType       Brand Repaired  \\\n",
       "0     golf     150000                  0    petrol  volkswagen      NaN   \n",
       "1      NaN     125000                  5  gasoline        audi      yes   \n",
       "2    grand     125000                  8  gasoline        jeep      NaN   \n",
       "3     golf     150000                  6    petrol  volkswagen       no   \n",
       "4    fabia      90000                  7  gasoline       skoda       no   \n",
       "5      3er     150000                 10    petrol         bmw      yes   \n",
       "6  2_reihe     150000                  8    petrol     peugeot       no   \n",
       "7    other      40000                  7    petrol  volkswagen       no   \n",
       "8    c_max      30000                  8    petrol        ford      NaN   \n",
       "9     golf     150000                  0       NaN  volkswagen      NaN   \n",
       "\n",
       "           DateCreated  NumberOfPictures  PostalCode             LastSeen  \n",
       "0  2016-03-24 00:00:00                 0       70435  2016-04-07 03:16:57  \n",
       "1  2016-03-24 00:00:00                 0       66954  2016-04-07 01:46:50  \n",
       "2  2016-03-14 00:00:00                 0       90480  2016-04-05 12:47:46  \n",
       "3  2016-03-17 00:00:00                 0       91074  2016-03-17 17:40:17  \n",
       "4  2016-03-31 00:00:00                 0       60437  2016-04-06 10:17:21  \n",
       "5  2016-04-04 00:00:00                 0       33775  2016-04-06 19:17:07  \n",
       "6  2016-04-01 00:00:00                 0       67112  2016-04-05 18:18:39  \n",
       "7  2016-03-21 00:00:00                 0       19348  2016-03-25 16:47:58  \n",
       "8  2016-04-04 00:00:00                 0       94505  2016-04-04 23:42:13  \n",
       "9  2016-03-17 00:00:00                 0       27472  2016-03-31 17:17:06  "
      ]
     },
     "metadata": {},
     "output_type": "display_data"
    }
   ],
   "source": [
    "# импорт данных\n",
    "data = pd.read_csv('./autos.csv')\n",
    "\n",
    "display(data.info())\n",
    "display(data.head(10))"
   ]
  },
  {
   "cell_type": "code",
   "execution_count": 48,
   "metadata": {},
   "outputs": [
    {
     "data": {
      "text/plain": [
       "354365"
      ]
     },
     "metadata": {},
     "output_type": "display_data"
    }
   ],
   "source": [
    "# удалим полные дубликаты\n",
    "data = data.drop_duplicates()\n",
    "display(len(data))"
   ]
  },
  {
   "cell_type": "markdown",
   "metadata": {},
   "source": [
    "Смущает цена 0 у некоторых автомобилей, удалим эти строки, поскольку они неинформативны"
   ]
  },
  {
   "cell_type": "code",
   "execution_count": 49,
   "metadata": {},
   "outputs": [
    {
     "name": "stdout",
     "output_type": "stream",
     "text": [
      "10772\n"
     ]
    }
   ],
   "source": [
    "print(len(data[data['Price'] == 0]))\n",
    "data = data[data['Price'] != 0].reset_index(drop=True)"
   ]
  },
  {
   "cell_type": "markdown",
   "metadata": {},
   "source": [
    "Столбцы `RegistrationMonth`, `NumberOfPictures`, `PostalCode`, `DateCrawled` и `LastSeen` принимаем избыточными и спокойно удаляем"
   ]
  },
  {
   "cell_type": "code",
   "execution_count": 50,
   "metadata": {},
   "outputs": [],
   "source": [
    "data = data.drop(['RegistrationMonth', 'NumberOfPictures', 'PostalCode', 'DateCrawled', 'LastSeen', 'DateCreated'], axis=1)"
   ]
  },
  {
   "cell_type": "markdown",
   "metadata": {},
   "source": [
    "### Работа с пропусками"
   ]
  },
  {
   "cell_type": "markdown",
   "metadata": {},
   "source": [
    "Наблюдаем пропуски в столбцах `VehicleType`, `Gearbox`, `Model`, `FuelType` и `Repaired`, пропуски в столбце `Model` восстановить не представляется возможным"
   ]
  },
  {
   "cell_type": "code",
   "execution_count": 51,
   "metadata": {},
   "outputs": [
    {
     "name": "stdout",
     "output_type": "stream",
     "text": [
      "Количество пропусков в столбце Model: 17521\n",
      "Доля от общего количества автомобилей: 0.051\n"
     ]
    }
   ],
   "source": [
    "model_isna_count = len(data[data['Model'].isna()]['Model'])\n",
    "print('Количество пропусков в столбце Model:', model_isna_count)\n",
    "print('Доля от общего количества автомобилей:', round(model_isna_count / len(data), 3))"
   ]
  },
  {
   "cell_type": "markdown",
   "metadata": {},
   "source": [
    "Удалив пропуски, мы потеряем 5% данных"
   ]
  },
  {
   "cell_type": "code",
   "execution_count": 52,
   "metadata": {},
   "outputs": [],
   "source": [
    "data = data.dropna(subset=['Model']).reset_index(drop=True)"
   ]
  },
  {
   "cell_type": "markdown",
   "metadata": {},
   "source": [
    "В столбцах `VehicleType`, `Gearbox` и `FuelType` можно заполнить пропуски, ориентируясь на модель"
   ]
  },
  {
   "cell_type": "code",
   "execution_count": 53,
   "metadata": {},
   "outputs": [
    {
     "data": {
      "text/html": [
       "<div>\n",
       "<style scoped>\n",
       "    .dataframe tbody tr th:only-of-type {\n",
       "        vertical-align: middle;\n",
       "    }\n",
       "\n",
       "    .dataframe tbody tr th {\n",
       "        vertical-align: top;\n",
       "    }\n",
       "\n",
       "    .dataframe thead th {\n",
       "        text-align: right;\n",
       "    }\n",
       "</style>\n",
       "<table border=\"1\" class=\"dataframe\">\n",
       "  <thead>\n",
       "    <tr style=\"text-align: right;\">\n",
       "      <th></th>\n",
       "      <th>Brand</th>\n",
       "      <th>Model</th>\n",
       "      <th>VehicleType</th>\n",
       "      <th>Gearbox</th>\n",
       "      <th>FuelType</th>\n",
       "    </tr>\n",
       "  </thead>\n",
       "  <tbody>\n",
       "    <tr>\n",
       "      <th>0</th>\n",
       "      <td>volkswagen</td>\n",
       "      <td>golf</td>\n",
       "      <td>sedan</td>\n",
       "      <td>manual</td>\n",
       "      <td>petrol</td>\n",
       "    </tr>\n",
       "    <tr>\n",
       "      <th>1</th>\n",
       "      <td>volkswagen</td>\n",
       "      <td>passat</td>\n",
       "      <td>wagon</td>\n",
       "      <td>manual</td>\n",
       "      <td>gasoline</td>\n",
       "    </tr>\n",
       "    <tr>\n",
       "      <th>2</th>\n",
       "      <td>volkswagen</td>\n",
       "      <td>polo</td>\n",
       "      <td>small</td>\n",
       "      <td>manual</td>\n",
       "      <td>petrol</td>\n",
       "    </tr>\n",
       "    <tr>\n",
       "      <th>3</th>\n",
       "      <td>volkswagen</td>\n",
       "      <td>scirocco</td>\n",
       "      <td>coupe</td>\n",
       "      <td>manual</td>\n",
       "      <td>petrol</td>\n",
       "    </tr>\n",
       "    <tr>\n",
       "      <th>4</th>\n",
       "      <td>volkswagen</td>\n",
       "      <td>transporter</td>\n",
       "      <td>bus</td>\n",
       "      <td>manual</td>\n",
       "      <td>gasoline</td>\n",
       "    </tr>\n",
       "  </tbody>\n",
       "</table>\n",
       "</div>"
      ],
      "text/plain": [
       "        Brand        Model VehicleType Gearbox  FuelType\n",
       "0  volkswagen         golf       sedan  manual    petrol\n",
       "1  volkswagen       passat       wagon  manual  gasoline\n",
       "2  volkswagen         polo       small  manual    petrol\n",
       "3  volkswagen     scirocco       coupe  manual    petrol\n",
       "4  volkswagen  transporter         bus  manual  gasoline"
      ]
     },
     "metadata": {},
     "output_type": "display_data"
    }
   ],
   "source": [
    "# создадим датафрейм для записи характеристик каждой модели\n",
    "models_descriptions = pd.DataFrame(columns=['Brand', 'Model', 'VehicleType', 'Gearbox', 'FuelType'])\n",
    "\n",
    "for brand in data['Brand'].unique():\n",
    "    for model in data[data['Brand'] == brand]['Model'].unique():\n",
    "        records = data.query('Model == @model and Brand == @brand')\n",
    "\n",
    "        # запишем стандартные параметры этой модели\n",
    "        vehicle_type = records['VehicleType'].mode()[0]\n",
    "        gearbox = records['Gearbox'].mode()[0]\n",
    "        fuel_type = records['FuelType'].mode()[0]\n",
    "        models_descriptions.loc[len(models_descriptions)] = [brand, model, vehicle_type, gearbox, fuel_type]\n",
    "\n",
    "display(models_descriptions.head())"
   ]
  },
  {
   "cell_type": "code",
   "execution_count": 54,
   "metadata": {},
   "outputs": [
    {
     "name": "stdout",
     "output_type": "stream",
     "text": [
      "<class 'pandas.core.frame.DataFrame'>\n",
      "RangeIndex: 326072 entries, 0 to 326071\n",
      "Data columns (total 10 columns):\n",
      " #   Column            Non-Null Count   Dtype \n",
      "---  ------            --------------   ----- \n",
      " 0   Price             326072 non-null  int64 \n",
      " 1   RegistrationYear  326072 non-null  int64 \n",
      " 2   Power             326072 non-null  int64 \n",
      " 3   Model             326072 non-null  object\n",
      " 4   Kilometer         326072 non-null  int64 \n",
      " 5   Brand             326072 non-null  object\n",
      " 6   Repaired          267779 non-null  object\n",
      " 7   VehicleType       326072 non-null  object\n",
      " 8   Gearbox           326072 non-null  object\n",
      " 9   FuelType          326072 non-null  object\n",
      "dtypes: int64(4), object(6)\n",
      "memory usage: 24.9+ MB\n"
     ]
    },
    {
     "data": {
      "text/plain": [
       "None"
      ]
     },
     "metadata": {},
     "output_type": "display_data"
    },
    {
     "data": {
      "text/html": [
       "<div>\n",
       "<style scoped>\n",
       "    .dataframe tbody tr th:only-of-type {\n",
       "        vertical-align: middle;\n",
       "    }\n",
       "\n",
       "    .dataframe tbody tr th {\n",
       "        vertical-align: top;\n",
       "    }\n",
       "\n",
       "    .dataframe thead th {\n",
       "        text-align: right;\n",
       "    }\n",
       "</style>\n",
       "<table border=\"1\" class=\"dataframe\">\n",
       "  <thead>\n",
       "    <tr style=\"text-align: right;\">\n",
       "      <th></th>\n",
       "      <th>Price</th>\n",
       "      <th>RegistrationYear</th>\n",
       "      <th>Power</th>\n",
       "      <th>Model</th>\n",
       "      <th>Kilometer</th>\n",
       "      <th>Brand</th>\n",
       "      <th>Repaired</th>\n",
       "      <th>VehicleType</th>\n",
       "      <th>Gearbox</th>\n",
       "      <th>FuelType</th>\n",
       "    </tr>\n",
       "  </thead>\n",
       "  <tbody>\n",
       "    <tr>\n",
       "      <th>0</th>\n",
       "      <td>480</td>\n",
       "      <td>1993</td>\n",
       "      <td>0</td>\n",
       "      <td>golf</td>\n",
       "      <td>150000</td>\n",
       "      <td>volkswagen</td>\n",
       "      <td>NaN</td>\n",
       "      <td>sedan</td>\n",
       "      <td>manual</td>\n",
       "      <td>petrol</td>\n",
       "    </tr>\n",
       "    <tr>\n",
       "      <th>1</th>\n",
       "      <td>9800</td>\n",
       "      <td>2004</td>\n",
       "      <td>163</td>\n",
       "      <td>grand</td>\n",
       "      <td>125000</td>\n",
       "      <td>jeep</td>\n",
       "      <td>NaN</td>\n",
       "      <td>suv</td>\n",
       "      <td>auto</td>\n",
       "      <td>gasoline</td>\n",
       "    </tr>\n",
       "    <tr>\n",
       "      <th>2</th>\n",
       "      <td>1500</td>\n",
       "      <td>2001</td>\n",
       "      <td>75</td>\n",
       "      <td>golf</td>\n",
       "      <td>150000</td>\n",
       "      <td>volkswagen</td>\n",
       "      <td>no</td>\n",
       "      <td>sedan</td>\n",
       "      <td>manual</td>\n",
       "      <td>petrol</td>\n",
       "    </tr>\n",
       "    <tr>\n",
       "      <th>3</th>\n",
       "      <td>3600</td>\n",
       "      <td>2008</td>\n",
       "      <td>69</td>\n",
       "      <td>fabia</td>\n",
       "      <td>90000</td>\n",
       "      <td>skoda</td>\n",
       "      <td>no</td>\n",
       "      <td>small</td>\n",
       "      <td>manual</td>\n",
       "      <td>petrol</td>\n",
       "    </tr>\n",
       "    <tr>\n",
       "      <th>4</th>\n",
       "      <td>650</td>\n",
       "      <td>1995</td>\n",
       "      <td>102</td>\n",
       "      <td>3er</td>\n",
       "      <td>150000</td>\n",
       "      <td>bmw</td>\n",
       "      <td>yes</td>\n",
       "      <td>sedan</td>\n",
       "      <td>manual</td>\n",
       "      <td>petrol</td>\n",
       "    </tr>\n",
       "    <tr>\n",
       "      <th>5</th>\n",
       "      <td>2200</td>\n",
       "      <td>2004</td>\n",
       "      <td>109</td>\n",
       "      <td>2_reihe</td>\n",
       "      <td>150000</td>\n",
       "      <td>peugeot</td>\n",
       "      <td>no</td>\n",
       "      <td>small</td>\n",
       "      <td>manual</td>\n",
       "      <td>petrol</td>\n",
       "    </tr>\n",
       "    <tr>\n",
       "      <th>6</th>\n",
       "      <td>14500</td>\n",
       "      <td>2014</td>\n",
       "      <td>125</td>\n",
       "      <td>c_max</td>\n",
       "      <td>30000</td>\n",
       "      <td>ford</td>\n",
       "      <td>NaN</td>\n",
       "      <td>bus</td>\n",
       "      <td>manual</td>\n",
       "      <td>gasoline</td>\n",
       "    </tr>\n",
       "    <tr>\n",
       "      <th>7</th>\n",
       "      <td>999</td>\n",
       "      <td>1998</td>\n",
       "      <td>101</td>\n",
       "      <td>golf</td>\n",
       "      <td>150000</td>\n",
       "      <td>volkswagen</td>\n",
       "      <td>NaN</td>\n",
       "      <td>sedan</td>\n",
       "      <td>manual</td>\n",
       "      <td>petrol</td>\n",
       "    </tr>\n",
       "    <tr>\n",
       "      <th>8</th>\n",
       "      <td>2000</td>\n",
       "      <td>2004</td>\n",
       "      <td>105</td>\n",
       "      <td>3_reihe</td>\n",
       "      <td>150000</td>\n",
       "      <td>mazda</td>\n",
       "      <td>no</td>\n",
       "      <td>sedan</td>\n",
       "      <td>manual</td>\n",
       "      <td>petrol</td>\n",
       "    </tr>\n",
       "    <tr>\n",
       "      <th>9</th>\n",
       "      <td>2799</td>\n",
       "      <td>2005</td>\n",
       "      <td>140</td>\n",
       "      <td>passat</td>\n",
       "      <td>150000</td>\n",
       "      <td>volkswagen</td>\n",
       "      <td>yes</td>\n",
       "      <td>wagon</td>\n",
       "      <td>manual</td>\n",
       "      <td>gasoline</td>\n",
       "    </tr>\n",
       "  </tbody>\n",
       "</table>\n",
       "</div>"
      ],
      "text/plain": [
       "   Price  RegistrationYear  Power    Model  Kilometer       Brand Repaired  \\\n",
       "0    480              1993      0     golf     150000  volkswagen      NaN   \n",
       "1   9800              2004    163    grand     125000        jeep      NaN   \n",
       "2   1500              2001     75     golf     150000  volkswagen       no   \n",
       "3   3600              2008     69    fabia      90000       skoda       no   \n",
       "4    650              1995    102      3er     150000         bmw      yes   \n",
       "5   2200              2004    109  2_reihe     150000     peugeot       no   \n",
       "6  14500              2014    125    c_max      30000        ford      NaN   \n",
       "7    999              1998    101     golf     150000  volkswagen      NaN   \n",
       "8   2000              2004    105  3_reihe     150000       mazda       no   \n",
       "9   2799              2005    140   passat     150000  volkswagen      yes   \n",
       "\n",
       "  VehicleType Gearbox  FuelType  \n",
       "0       sedan  manual    petrol  \n",
       "1         suv    auto  gasoline  \n",
       "2       sedan  manual    petrol  \n",
       "3       small  manual    petrol  \n",
       "4       sedan  manual    petrol  \n",
       "5       small  manual    petrol  \n",
       "6         bus  manual  gasoline  \n",
       "7       sedan  manual    petrol  \n",
       "8       sedan  manual    petrol  \n",
       "9       wagon  manual  gasoline  "
      ]
     },
     "metadata": {},
     "output_type": "display_data"
    }
   ],
   "source": [
    "data = data.drop(['VehicleType', 'Gearbox', 'FuelType'], axis=1)\n",
    "\n",
    "# последовательно применим к каждому столбцу\n",
    "data = data.merge(models_descriptions, on=['Brand', 'Model'], how='left')\n",
    "\n",
    "display(data.info())\n",
    "display(data.head(10))"
   ]
  },
  {
   "cell_type": "code",
   "execution_count": 55,
   "metadata": {},
   "outputs": [
    {
     "name": "stdout",
     "output_type": "stream",
     "text": [
      "Доля пропусков в Repaired: 0.179\n",
      "Процент ремонтированных машин к неремонтируемым: 0.098 к 0.723\n"
     ]
    }
   ],
   "source": [
    "print('Доля пропусков в Repaired:', round(len(data[data['Repaired'].isna()]) / len(data), 3))\n",
    "print('Процент ремонтированных машин к неремонтируемым:', \n",
    "      round(len(data[data['Repaired'] == 'yes']) / len(data), 3), 'к', \n",
    "      round(len(data[data['Repaired'] == 'no']) / len(data), 3))"
   ]
  },
  {
   "cell_type": "markdown",
   "metadata": {},
   "source": [
    "Почти наверняка пропуски в столбце `Repaired` обусловлены тем, что машина не ремонтировалась, а терять такой большой процент данных (практически 20%) нецелесообразно, а также преобразуем в булев тип"
   ]
  },
  {
   "cell_type": "code",
   "execution_count": 56,
   "metadata": {},
   "outputs": [],
   "source": [
    "def repaired_into_bool(value):\n",
    "    if value == 'yes':\n",
    "        return 1\n",
    "    return 0\n",
    "\n",
    "\n",
    "data['Repaired'] = data['Repaired'].apply(repaired_into_bool)"
   ]
  },
  {
   "cell_type": "markdown",
   "metadata": {},
   "source": [
    "### Предобработка"
   ]
  },
  {
   "cell_type": "markdown",
   "metadata": {},
   "source": [
    "Для некоторых моделей потребуется перевести категориальные данные в численные:"
   ]
  },
  {
   "cell_type": "code",
   "execution_count": 57,
   "metadata": {},
   "outputs": [
    {
     "data": {
      "text/html": [
       "<div>\n",
       "<style scoped>\n",
       "    .dataframe tbody tr th:only-of-type {\n",
       "        vertical-align: middle;\n",
       "    }\n",
       "\n",
       "    .dataframe tbody tr th {\n",
       "        vertical-align: top;\n",
       "    }\n",
       "\n",
       "    .dataframe thead th {\n",
       "        text-align: right;\n",
       "    }\n",
       "</style>\n",
       "<table border=\"1\" class=\"dataframe\">\n",
       "  <thead>\n",
       "    <tr style=\"text-align: right;\">\n",
       "      <th></th>\n",
       "      <th>Price</th>\n",
       "      <th>RegistrationYear</th>\n",
       "      <th>Power</th>\n",
       "      <th>Model</th>\n",
       "      <th>Kilometer</th>\n",
       "      <th>Brand</th>\n",
       "      <th>Repaired</th>\n",
       "      <th>VehicleType</th>\n",
       "      <th>Gearbox_manual</th>\n",
       "      <th>FuelType_petrol</th>\n",
       "    </tr>\n",
       "  </thead>\n",
       "  <tbody>\n",
       "    <tr>\n",
       "      <th>0</th>\n",
       "      <td>480</td>\n",
       "      <td>1993</td>\n",
       "      <td>0</td>\n",
       "      <td>4299.323727</td>\n",
       "      <td>150000</td>\n",
       "      <td>4618.620556</td>\n",
       "      <td>0</td>\n",
       "      <td>4766.993876</td>\n",
       "      <td>1</td>\n",
       "      <td>1</td>\n",
       "    </tr>\n",
       "    <tr>\n",
       "      <th>1</th>\n",
       "      <td>9800</td>\n",
       "      <td>2004</td>\n",
       "      <td>163</td>\n",
       "      <td>6440.798561</td>\n",
       "      <td>125000</td>\n",
       "      <td>7358.716535</td>\n",
       "      <td>0</td>\n",
       "      <td>9132.485274</td>\n",
       "      <td>0</td>\n",
       "      <td>0</td>\n",
       "    </tr>\n",
       "    <tr>\n",
       "      <th>2</th>\n",
       "      <td>1500</td>\n",
       "      <td>2001</td>\n",
       "      <td>75</td>\n",
       "      <td>4299.323727</td>\n",
       "      <td>150000</td>\n",
       "      <td>4618.620556</td>\n",
       "      <td>0</td>\n",
       "      <td>4766.993876</td>\n",
       "      <td>1</td>\n",
       "      <td>1</td>\n",
       "    </tr>\n",
       "    <tr>\n",
       "      <th>3</th>\n",
       "      <td>3600</td>\n",
       "      <td>2008</td>\n",
       "      <td>69</td>\n",
       "      <td>4224.542233</td>\n",
       "      <td>90000</td>\n",
       "      <td>6041.791447</td>\n",
       "      <td>0</td>\n",
       "      <td>2987.729009</td>\n",
       "      <td>1</td>\n",
       "      <td>1</td>\n",
       "    </tr>\n",
       "    <tr>\n",
       "      <th>4</th>\n",
       "      <td>650</td>\n",
       "      <td>1995</td>\n",
       "      <td>102</td>\n",
       "      <td>5135.656134</td>\n",
       "      <td>150000</td>\n",
       "      <td>6471.321851</td>\n",
       "      <td>1</td>\n",
       "      <td>4766.993876</td>\n",
       "      <td>1</td>\n",
       "      <td>1</td>\n",
       "    </tr>\n",
       "  </tbody>\n",
       "</table>\n",
       "</div>"
      ],
      "text/plain": [
       "   Price  RegistrationYear  Power        Model  Kilometer        Brand  \\\n",
       "0    480              1993      0  4299.323727     150000  4618.620556   \n",
       "1   9800              2004    163  6440.798561     125000  7358.716535   \n",
       "2   1500              2001     75  4299.323727     150000  4618.620556   \n",
       "3   3600              2008     69  4224.542233      90000  6041.791447   \n",
       "4    650              1995    102  5135.656134     150000  6471.321851   \n",
       "\n",
       "   Repaired  VehicleType  Gearbox_manual  FuelType_petrol  \n",
       "0         0  4766.993876               1                1  \n",
       "1         0  9132.485274               0                0  \n",
       "2         0  4766.993876               1                1  \n",
       "3         0  2987.729009               1                1  \n",
       "4         1  4766.993876               1                1  "
      ]
     },
     "metadata": {},
     "output_type": "display_data"
    }
   ],
   "source": [
    "# применим One Hot Encoding к Gearbox и FuelType\n",
    "data_encoded = pd.get_dummies(data, columns=['Gearbox', 'FuelType'], drop_first=True, dtype=int)\n",
    "\n",
    "# к Brand, Model и VehicleType применим y Encoding\n",
    "for category in ['Model', 'Brand', 'VehicleType']:\n",
    "    data_encoded[category] = data.groupby(category)['Price'].transform('mean')\n",
    "\n",
    "display(data_encoded.head())"
   ]
  },
  {
   "cell_type": "markdown",
   "metadata": {},
   "source": [
    "Разделим данные:"
   ]
  },
  {
   "cell_type": "code",
   "execution_count": 58,
   "metadata": {},
   "outputs": [],
   "source": [
    "y = data['Price']\n",
    "X_encoded = data_encoded.drop(['Price'], axis=1)"
   ]
  },
  {
   "cell_type": "markdown",
   "metadata": {},
   "source": [
    "Стандартизируем данные:"
   ]
  },
  {
   "cell_type": "code",
   "execution_count": 59,
   "metadata": {},
   "outputs": [
    {
     "data": {
      "text/html": [
       "<div>\n",
       "<style scoped>\n",
       "    .dataframe tbody tr th:only-of-type {\n",
       "        vertical-align: middle;\n",
       "    }\n",
       "\n",
       "    .dataframe tbody tr th {\n",
       "        vertical-align: top;\n",
       "    }\n",
       "\n",
       "    .dataframe thead th {\n",
       "        text-align: right;\n",
       "    }\n",
       "</style>\n",
       "<table border=\"1\" class=\"dataframe\">\n",
       "  <thead>\n",
       "    <tr style=\"text-align: right;\">\n",
       "      <th></th>\n",
       "      <th>RegistrationYear</th>\n",
       "      <th>Power</th>\n",
       "      <th>Model</th>\n",
       "      <th>Kilometer</th>\n",
       "      <th>Brand</th>\n",
       "      <th>Repaired</th>\n",
       "      <th>VehicleType</th>\n",
       "      <th>Gearbox_manual</th>\n",
       "      <th>FuelType_petrol</th>\n",
       "    </tr>\n",
       "  </thead>\n",
       "  <tbody>\n",
       "    <tr>\n",
       "      <th>0</th>\n",
       "      <td>-0.164028</td>\n",
       "      <td>-0.612045</td>\n",
       "      <td>-0.132843</td>\n",
       "      <td>150000</td>\n",
       "      <td>-0.002903</td>\n",
       "      <td>0</td>\n",
       "      <td>0.104803</td>\n",
       "      <td>1</td>\n",
       "      <td>1</td>\n",
       "    </tr>\n",
       "    <tr>\n",
       "      <th>1</th>\n",
       "      <td>0.000749</td>\n",
       "      <td>0.278821</td>\n",
       "      <td>0.746038</td>\n",
       "      <td>125000</td>\n",
       "      <td>1.810135</td>\n",
       "      <td>0</td>\n",
       "      <td>3.282297</td>\n",
       "      <td>0</td>\n",
       "      <td>0</td>\n",
       "    </tr>\n",
       "    <tr>\n",
       "      <th>2</th>\n",
       "      <td>-0.044190</td>\n",
       "      <td>-0.202137</td>\n",
       "      <td>-0.132843</td>\n",
       "      <td>150000</td>\n",
       "      <td>-0.002903</td>\n",
       "      <td>0</td>\n",
       "      <td>0.104803</td>\n",
       "      <td>1</td>\n",
       "      <td>1</td>\n",
       "    </tr>\n",
       "    <tr>\n",
       "      <th>3</th>\n",
       "      <td>0.060667</td>\n",
       "      <td>-0.234930</td>\n",
       "      <td>-0.163534</td>\n",
       "      <td>90000</td>\n",
       "      <td>0.938766</td>\n",
       "      <td>0</td>\n",
       "      <td>-1.190264</td>\n",
       "      <td>1</td>\n",
       "      <td>1</td>\n",
       "    </tr>\n",
       "    <tr>\n",
       "      <th>4</th>\n",
       "      <td>-0.134069</td>\n",
       "      <td>-0.054571</td>\n",
       "      <td>0.210396</td>\n",
       "      <td>150000</td>\n",
       "      <td>1.222973</td>\n",
       "      <td>1</td>\n",
       "      <td>0.104803</td>\n",
       "      <td>1</td>\n",
       "      <td>1</td>\n",
       "    </tr>\n",
       "  </tbody>\n",
       "</table>\n",
       "</div>"
      ],
      "text/plain": [
       "   RegistrationYear     Power     Model  Kilometer     Brand  Repaired  \\\n",
       "0         -0.164028 -0.612045 -0.132843     150000 -0.002903         0   \n",
       "1          0.000749  0.278821  0.746038     125000  1.810135         0   \n",
       "2         -0.044190 -0.202137 -0.132843     150000 -0.002903         0   \n",
       "3          0.060667 -0.234930 -0.163534      90000  0.938766         0   \n",
       "4         -0.134069 -0.054571  0.210396     150000  1.222973         1   \n",
       "\n",
       "   VehicleType  Gearbox_manual  FuelType_petrol  \n",
       "0     0.104803               1                1  \n",
       "1     3.282297               0                0  \n",
       "2     0.104803               1                1  \n",
       "3    -1.190264               1                1  \n",
       "4     0.104803               1                1  "
      ]
     },
     "metadata": {},
     "output_type": "display_data"
    }
   ],
   "source": [
    "from sklearn.preprocessing import StandardScaler\n",
    "\n",
    "numeric = ['RegistrationYear', 'Power', 'Model', 'Brand', 'VehicleType']\n",
    "\n",
    "scaler = StandardScaler()\n",
    "scaler.fit(X_encoded[numeric])\n",
    "X_encoded[numeric] = scaler.transform(X_encoded[numeric])\n",
    "\n",
    "display(X_encoded.head())"
   ]
  },
  {
   "cell_type": "code",
   "execution_count": 60,
   "metadata": {},
   "outputs": [],
   "source": [
    "from sklearn.model_selection import train_test_split\n",
    "\n",
    "X_train, X_test, y_train, y_test = train_test_split(\n",
    "    X_encoded, y, test_size=0.2, random_state=12)"
   ]
  },
  {
   "cell_type": "markdown",
   "metadata": {},
   "source": [
    "## Обучение моделей"
   ]
  },
  {
   "cell_type": "markdown",
   "metadata": {},
   "source": [
    "Будем анализировать следующие модели: линейную регрессию, решающее дерево, случайный лес и градиентный бустинг\n",
    "\n",
    "Для оценки качества моделей будем использовать RMSE в качестве основной метрики, по заданию значение RMSE должно быть меньше 2500"
   ]
  },
  {
   "cell_type": "markdown",
   "metadata": {},
   "source": [
    "### Линейная регрессия"
   ]
  },
  {
   "cell_type": "code",
   "execution_count": 61,
   "metadata": {},
   "outputs": [
    {
     "name": "stdout",
     "output_type": "stream",
     "text": [
      "Время затраченное на обучение:\n",
      "CPU times: total: 15.6 ms\n",
      "Wall time: 54.9 ms\n",
      "\n",
      "Время затраченное на предсказание\n",
      "CPU times: total: 0 ns\n",
      "Wall time: 4.01 ms\n",
      "\n",
      "RMSE линейной модели: 3423.763\n"
     ]
    }
   ],
   "source": [
    "from sklearn.linear_model import LinearRegression\n",
    "from sklearn.metrics import root_mean_squared_error\n",
    "\n",
    "linear_model = LinearRegression()\n",
    "print('Время затраченное на обучение:')\n",
    "%time linear_model.fit(X_train, y_train)\n",
    "print('\\nВремя затраченное на предсказание')\n",
    "%time linear_model_predictions = linear_model.predict(X_test)\n",
    "RMSE_linear_model = root_mean_squared_error(linear_model_predictions, y_test)\n",
    "print('\\nRMSE линейной модели:', round(RMSE_linear_model, 3))"
   ]
  },
  {
   "cell_type": "markdown",
   "metadata": {},
   "source": [
    "RMSE линейной модели больше допустимого значения, однако скорость ее обучения и для предсказаний довольно высока, попробуем применить кросс-валидацию:"
   ]
  },
  {
   "cell_type": "code",
   "execution_count": 62,
   "metadata": {},
   "outputs": [
    {
     "name": "stdout",
     "output_type": "stream",
     "text": [
      "Средний RMSE линейной регрессии при кросс-валидации: 3401.862\n",
      "\n",
      "Время работы при кросс-валидации:\n",
      "CPU times: total: 281 ms\n",
      "Wall time: 429 ms\n"
     ]
    }
   ],
   "source": [
    "%%time\n",
    "from sklearn.model_selection import cross_val_score\n",
    "\n",
    "new_linear_model = LinearRegression()\n",
    "result = cross_val_score(new_linear_model, X_encoded, \n",
    "                         y, cv=5, scoring='neg_mean_squared_error')\n",
    "RMSE_scores = np.sqrt(-result)\n",
    "print('Средний RMSE линейной регрессии при кросс-валидации:', \n",
    "        round(np.array(RMSE_scores).mean(), 3))\n",
    "print('\\nВремя работы при кросс-валидации:')"
   ]
  },
  {
   "cell_type": "markdown",
   "metadata": {},
   "source": [
    "Линейная модель не может дать нам необходимого качества предсказаний"
   ]
  },
  {
   "cell_type": "markdown",
   "metadata": {},
   "source": [
    "### Решающее дерево"
   ]
  },
  {
   "cell_type": "code",
   "execution_count": 63,
   "metadata": {},
   "outputs": [
    {
     "name": "stdout",
     "output_type": "stream",
     "text": [
      "Лучшая глубина: 14\n"
     ]
    }
   ],
   "source": [
    "from sklearn.tree import DecisionTreeRegressor\n",
    "\n",
    "# подбор гиперпараметров\n",
    "best_depth = 0\n",
    "best_score = 4000\n",
    "\n",
    "for depth in range(5, 30): \n",
    "    tree_model = DecisionTreeRegressor(random_state=12, max_depth=depth)\n",
    "    tree_model.fit(X_train, y_train) \n",
    "    tree_model_prediction = tree_model.predict(X_test)\n",
    "    RMSE_tree_model = root_mean_squared_error(tree_model_prediction, y_test) \n",
    "    if RMSE_tree_model < best_score:\n",
    "        best_depth = depth\n",
    "        best_score = RMSE_tree_model\n",
    "\n",
    "print('Лучшая глубина:', best_depth)\n"
   ]
  },
  {
   "cell_type": "code",
   "execution_count": 64,
   "metadata": {},
   "outputs": [
    {
     "name": "stdout",
     "output_type": "stream",
     "text": [
      "Время затраченное на обучение:\n",
      "CPU times: total: 422 ms\n",
      "Wall time: 611 ms\n",
      "\n",
      "Время затраченное на предсказание:\n",
      "CPU times: total: 15.6 ms\n",
      "Wall time: 13 ms\n",
      "\n",
      "RMSE решающего дерева: 1841.207\n"
     ]
    }
   ],
   "source": [
    "# обучаем модель с полученной глубиной\n",
    "tree_model = DecisionTreeRegressor(random_state=12, max_depth=best_depth)\n",
    "print('Время затраченное на обучение:')\n",
    "%time tree_model.fit(X_train, y_train) \n",
    "print('\\nВремя затраченное на предсказание:')\n",
    "%time tree_model_prediction = tree_model.predict(X_test)\n",
    "RMSE_tree_model = root_mean_squared_error(tree_model_prediction, y_test) \n",
    "print('\\nRMSE решающего дерева:', round(RMSE_tree_model, 3))"
   ]
  },
  {
   "cell_type": "markdown",
   "metadata": {},
   "source": [
    "Обучение и применение решающего дерева при заданной глубине занимаем намного больше времени, однако RMSE значительно уменьшилась"
   ]
  },
  {
   "cell_type": "markdown",
   "metadata": {},
   "source": [
    "### Случайный лес"
   ]
  },
  {
   "cell_type": "code",
   "execution_count": 65,
   "metadata": {},
   "outputs": [
    {
     "name": "stdout",
     "output_type": "stream",
     "text": [
      "Лучшее количество деревьев: 45\n"
     ]
    }
   ],
   "source": [
    "from sklearn.ensemble import RandomForestRegressor\n",
    "\n",
    "# подбор гиперпараметров\n",
    "best_estimators = 0\n",
    "best_score = 4000\n",
    "\n",
    "for estimators in range(5, 50, 5):\n",
    "    forest_model = RandomForestRegressor(random_state=12, max_depth=best_depth, \n",
    "                                         n_estimators=estimators)\n",
    "    forest_model.fit(X_train, y_train) \n",
    "    forest_model_prediction = forest_model.predict(X_test)\n",
    "    RMSE_forest_model = root_mean_squared_error(forest_model_prediction, y_test) \n",
    "    if RMSE_forest_model < best_score:\n",
    "        best_estimators = estimators\n",
    "        best_score = RMSE_forest_model\n",
    "\n",
    "print('Лучшее количество деревьев:', best_estimators)"
   ]
  },
  {
   "cell_type": "code",
   "execution_count": null,
   "metadata": {},
   "outputs": [
    {
     "name": "stdout",
     "output_type": "stream",
     "text": [
      "Время затраченное на обучение:\n",
      "CPU times: total: 13.9 s\n",
      "Wall time: 24.4 s\n",
      "\n",
      "Время затраченное на предсказание:\n",
      "CPU times: total: 250 ms\n",
      "Wall time: 529 ms\n",
      "\n",
      "RMSE случайного леса: 1695.4901022596325\n"
     ]
    }
   ],
   "source": [
    "# обучаем модель с лучшими гиперпараметрами\n",
    "forest_model = RandomForestRegressor(max_depth=best_depth, random_state=12,\n",
    "                                     n_estimators=best_estimators)\n",
    "print('Время затраченное на обучение:')\n",
    "%time forest_model.fit(X_train, y_train)\n",
    "print('\\nВремя затраченное на предсказание:')\n",
    "%time forest_model_prediction = forest_model.predict(X_test)\n",
    "RMSE_forest_model = root_mean_squared_error(forest_model_prediction, y_test)\n",
    "print('\\nRMSE случайного леса:', RMSE_forest_model)"
   ]
  },
  {
   "cell_type": "markdown",
   "metadata": {},
   "source": [
    "Модель случайного леса тратит в 4 раза больше времени, чем модель дерева решений, при этом RMSE не сильно уменьшился"
   ]
  },
  {
   "cell_type": "markdown",
   "metadata": {},
   "source": [
    "### Градиентный бустинг"
   ]
  },
  {
   "cell_type": "code",
   "execution_count": 81,
   "metadata": {},
   "outputs": [
    {
     "name": "stdout",
     "output_type": "stream",
     "text": [
      "Лучшие параметры: {'num_leaves': 70, 'n_estimators': 600, 'max_depth': 18, 'learning_rate': 0.09}\n"
     ]
    }
   ],
   "source": [
    "import sklearn \n",
    "import lightgbm as lgb\n",
    "from sklearn.model_selection import RandomizedSearchCV\n",
    "\n",
    "# датасеты для тренировки модели\n",
    "train_data = lgb.Dataset(X_train, label=y_train)\n",
    "test_data = lgb.Dataset(X_test, label=y_test)\n",
    "\n",
    "# подбор гиперпараметров\n",
    "param_grid = {\n",
    "    'num_leaves': [31, 50, 70],\n",
    "    'learning_rate': [i/1000 for i in range(10, 100, 5)],\n",
    "    'n_estimators': [i for i in range(100, 1000, 100)],\n",
    "    'max_depth': [i for i in range(10, 20)]\n",
    "}\n",
    "\n",
    "lgb_model = lgb.LGBMRegressor(boosting_type='gbdt', objective='regression', verbose=-1, \n",
    "                              callbacks=[\n",
    "                                  lgb.early_stopping(stopping_rounds=3)])\n",
    "\n",
    "# используем случайный поиск\n",
    "grid_search = RandomizedSearchCV(estimator=lgb_model, param_distributions=param_grid, cv=5)\n",
    "grid_search.fit(X_train, y_train)\n",
    "\n",
    "print('Лучшие параметры:', grid_search.best_params_)"
   ]
  },
  {
   "cell_type": "code",
   "execution_count": 83,
   "metadata": {},
   "outputs": [
    {
     "name": "stdout",
     "output_type": "stream",
     "text": [
      "Время затраченное на обучение:\n",
      "CPU times: total: 8.34 s\n",
      "Wall time: 3.61 s\n",
      "\n",
      "Время затраченное на предсказание:\n",
      "CPU times: total: 2.25 s\n",
      "Wall time: 813 ms\n",
      "\n",
      "RMSE градиентного бустинга: 1629.2675219457192\n"
     ]
    }
   ],
   "source": [
    "# применим лучшие параметры чтобы засечь время\n",
    "lgb_model = lgb.LGBMRegressor(boosting_type='gbdt', objective='regression', verbose=-1,\n",
    "                              **grid_search.best_params_)\n",
    "print('Время затраченное на обучение:')\n",
    "%time lgb_model.fit(X_train, y_train)\n",
    "print('\\nВремя затраченное на предсказание:')\n",
    "%time lgb_model_predictions = lgb_model.predict(X_test)\n",
    "RMSE_lgb_model = root_mean_squared_error(lgb_model_predictions, y_test)\n",
    "print('\\nRMSE градиентного бустинга:', RMSE_lgb_model)"
   ]
  },
  {
   "cell_type": "markdown",
   "metadata": {},
   "source": [
    "RMSE относительно случайного леса не сильно измнилась, при этом время на обучение значительно сократилось, но время на предсказание увеличилось"
   ]
  },
  {
   "cell_type": "markdown",
   "metadata": {},
   "source": [
    "## Анализ моделей"
   ]
  },
  {
   "cell_type": "markdown",
   "metadata": {},
   "source": [
    "Наилучшее качество предсказаний - у ансамблевых методов, при этом у LGB модели время на обучение ниже, а время на предсказывание больше, чем у случайного леса\n",
    "\n",
    "Качество предсказаний дерева решений не сильно хуже качества ансамблевых методов, но обеспечивает необходимую величину и значительно быстрее по всем параметрам\n",
    "\n",
    "При этом, подбор подходящих гиперпараметров так же занимает значительное время, но обеспечивает необходимое качество предсказаний"
   ]
  },
  {
   "cell_type": "markdown",
   "metadata": {},
   "source": [
    "# Вывод"
   ]
  },
  {
   "cell_type": "markdown",
   "metadata": {},
   "source": [
    "Таким образом, в зависимости от условий, можно использовать градиентный бустинг в задачах с большим обьемом данных и необходимостью минимизировать ошибку, случайный лес, обеспечивающий такое же качество, в задачах, требующих быстрых предсказаний, и дерево решений в задачах с ограниченными ресурсами и временем, где достаточна полученная точность"
   ]
  }
 ],
 "metadata": {
  "kernelspec": {
   "display_name": "ds_env",
   "language": "python",
   "name": "python3"
  },
  "language_info": {
   "codemirror_mode": {
    "name": "ipython",
    "version": 3
   },
   "file_extension": ".py",
   "mimetype": "text/x-python",
   "name": "python",
   "nbconvert_exporter": "python",
   "pygments_lexer": "ipython3",
   "version": "3.12.2"
  },
  "toc": {
   "base_numbering": 1,
   "nav_menu": {},
   "number_sections": true,
   "sideBar": true,
   "skip_h1_title": true,
   "title_cell": "Table of Contents",
   "title_sidebar": "Contents",
   "toc_cell": false,
   "toc_position": {},
   "toc_section_display": true,
   "toc_window_display": false
  }
 },
 "nbformat": 4,
 "nbformat_minor": 2
}
